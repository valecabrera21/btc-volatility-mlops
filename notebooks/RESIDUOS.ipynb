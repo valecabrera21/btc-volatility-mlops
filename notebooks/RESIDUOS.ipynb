{
 "cells": [
  {
   "cell_type": "markdown",
   "id": "209b2e60",
   "metadata": {},
   "source": [
    "# **Análisis de los residuos para cada volatilidad**"
   ]
  },
  {
   "cell_type": "markdown",
   "id": "88da3ac7",
   "metadata": {},
   "source": [
    "## **Librerías**"
   ]
  },
  {
   "cell_type": "code",
   "execution_count": 1,
   "id": "d79bb58a",
   "metadata": {},
   "outputs": [],
   "source": [
    "import pandas as pd\n",
    "import joblib\n",
    "from IPython.display import display\n",
    "import seaborn as sns\n",
    "import matplotlib.pyplot as plt\n",
    "import numpy as np\n",
    "import os"
   ]
  },
  {
   "cell_type": "code",
   "execution_count": 2,
   "id": "cded77d9",
   "metadata": {},
   "outputs": [
    {
     "name": "stdout",
     "output_type": "stream",
     "text": [
      "Archivos encontrados: ['mejor_modelo_vol14d.joblib', 'mejor_modelo_vol21d.joblib', 'mejor_modelo_vol28d.joblib', 'mejor_modelo_vol7d.joblib']\n",
      "Se cargaron 4 modelos.\n"
     ]
    }
   ],
   "source": [
    "# Carpeta de modelos relativa al notebook\n",
    "model_dir = os.path.join(os.getcwd(), '..', 'app', 'modelos_finales')\n",
    "\n",
    "if not os.path.exists(model_dir):\n",
    "    raise FileNotFoundError(f\"No se encontró el directorio {model_dir}\")\n",
    "\n",
    "# Listar archivos .joblib\n",
    "model_files = [f for f in os.listdir(model_dir) if f.endswith('.joblib')]\n",
    "print(\"Archivos encontrados:\", model_files)\n",
    "\n",
    "# Cargar los modelos\n",
    "modelos_cargados = {f: joblib.load(os.path.join(model_dir, f)) for f in model_files}\n",
    "print(f\"Se cargaron {len(modelos_cargados)} modelos.\")\n"
   ]
  },
  {
   "cell_type": "code",
   "execution_count": 3,
   "id": "98427201",
   "metadata": {},
   "outputs": [],
   "source": [
    "# Diccionario para guardar residuos de todos los modelos\n",
    "residuos_modelos = {}\n",
    "\n",
    "for nombre, modelo_data in modelos_cargados.items():\n",
    "    residuos_modelos[nombre] = modelo_data['residuos_mejor_fold']\n"
   ]
  },
  {
   "cell_type": "markdown",
   "id": "76f6dbcc",
   "metadata": {},
   "source": [
    "## **Test BDS: Primer horizonte**"
   ]
  },
  {
   "cell_type": "markdown",
   "id": "2cfd143b",
   "metadata": {},
   "source": [
    "* **Hipótesis Nula ($H_0$)**: Los datos son **independientes e idénticamente distribuidos (i.i.d.)**.\n",
    "\n",
    "    * El modelo ha hecho un buen trabajo.\n",
    "\n",
    "* **Hipótesis Alternativa ($H_1$)**: Los datos **no son i.i.d.**\n",
    "\n",
    "    * Esto sugiere que los residuos todavía contienen una estructura o patrón predecible (dependencia no lineal) que el modelo no logró capturar.\n",
    "\n",
    "##### **Interpretación del p-valor:**\n",
    "* Si el **p-valor ≥ 0.05**, no se rechaza la hipótesis nula ($H_0$). Se concluye que los residuos son **i.i.d.** (resultado deseado).\n",
    "* Si el **p-valor < 0.05**, se rechaza la hipótesis nula ($H_0$). Se concluye que existe **dependencia** en los residuos."
   ]
  },
  {
   "cell_type": "code",
   "execution_count": 7,
   "id": "c8dce576",
   "metadata": {},
   "outputs": [
    {
     "data": {
      "text/html": [
       "<div>\n",
       "<style scoped>\n",
       "    .dataframe tbody tr th:only-of-type {\n",
       "        vertical-align: middle;\n",
       "    }\n",
       "\n",
       "    .dataframe tbody tr th {\n",
       "        vertical-align: top;\n",
       "    }\n",
       "\n",
       "    .dataframe thead th {\n",
       "        text-align: right;\n",
       "    }\n",
       "</style>\n",
       "<table border=\"1\" class=\"dataframe\">\n",
       "  <thead>\n",
       "    <tr style=\"text-align: right;\">\n",
       "      <th></th>\n",
       "      <th>Modelo</th>\n",
       "      <th>Lag</th>\n",
       "      <th>Fold</th>\n",
       "      <th>BDS p-value H1</th>\n",
       "    </tr>\n",
       "  </thead>\n",
       "  <tbody>\n",
       "    <tr>\n",
       "      <th>0</th>\n",
       "      <td>Volatilidad 14 días</td>\n",
       "      <td>14</td>\n",
       "      <td>4</td>\n",
       "      <td>0.15807113740669199</td>\n",
       "    </tr>\n",
       "    <tr>\n",
       "      <th>1</th>\n",
       "      <td>Volatilidad 21 días</td>\n",
       "      <td>21</td>\n",
       "      <td>3</td>\n",
       "      <td>0.6527340508319626</td>\n",
       "    </tr>\n",
       "    <tr>\n",
       "      <th>2</th>\n",
       "      <td>Volatilidad 28 días</td>\n",
       "      <td>14</td>\n",
       "      <td>4</td>\n",
       "      <td>0.9586437812573544</td>\n",
       "    </tr>\n",
       "    <tr>\n",
       "      <th>3</th>\n",
       "      <td>Volatilidad 7 días</td>\n",
       "      <td>7</td>\n",
       "      <td>1</td>\n",
       "      <td>0.3573422471776194</td>\n",
       "    </tr>\n",
       "  </tbody>\n",
       "</table>\n",
       "</div>"
      ],
      "text/plain": [
       "                Modelo  Lag  Fold       BDS p-value H1\n",
       "0  Volatilidad 14 días   14     4  0.15807113740669199\n",
       "1  Volatilidad 21 días   21     3   0.6527340508319626\n",
       "2  Volatilidad 28 días   14     4   0.9586437812573544\n",
       "3   Volatilidad 7 días    7     1   0.3573422471776194"
      ]
     },
     "execution_count": 7,
     "metadata": {},
     "output_type": "execute_result"
    }
   ],
   "source": [
    "BASE_DIR = os.getcwd()\n",
    "results_path = os.path.join(BASE_DIR, 'results')\n",
    "os.makedirs(results_path, exist_ok=True)\n",
    "\n",
    "# Crear lista para almacenar la información de cada modelo\n",
    "resumen_bds = []\n",
    "\n",
    "for nombre, modelo_data in modelos_cargados.items():\n",
    "    volatilidad = modelo_data['parametros']['volatilidad']\n",
    "    lag = modelo_data['parametros']['lag']\n",
    "    fold = modelo_data['parametros']['fold']\n",
    "    bds = modelo_data['metricas']['BDS_pvalue']\n",
    "    \n",
    "    resumen_bds.append({\n",
    "        'Modelo': f'Volatilidad {volatilidad} días',\n",
    "        'Lag': lag,\n",
    "        'Fold': fold,\n",
    "        'BDS p-value H1': bds\n",
    "    })\n",
    "\n",
    "# Convertir a DataFrame\n",
    "df_bds = pd.DataFrame(resumen_bds)\n",
    "\n",
    "# Ordenar por lag y fold\n",
    "df_bds.to_csv(os.path.join(results_path, 'resumen_bds.csv'), index=False)\n",
    "\n",
    "# Mostrar tabla\n",
    "df_bds\n"
   ]
  },
  {
   "cell_type": "markdown",
   "id": "10e12464",
   "metadata": {},
   "source": [
    "Los 4 modelos presentan **p-valores > 0.05** en el test BDS para el primer horizonte (H1), lo que indica que **no se rechaza la hipótesis de independencia de los residuos**. Esto sugiere que los residuos se comportan como un proceso **iid**, lo que es consistente con un buen ajuste del modelo para el primer paso de predicción.\n"
   ]
  },
  {
   "cell_type": "markdown",
   "id": "c426daaf",
   "metadata": {},
   "source": [
    "## **Medidas de tendencia**"
   ]
  },
  {
   "cell_type": "code",
   "execution_count": 5,
   "id": "34354543",
   "metadata": {},
   "outputs": [
    {
     "data": {
      "text/html": [
       "<div>\n",
       "<style scoped>\n",
       "    .dataframe tbody tr th:only-of-type {\n",
       "        vertical-align: middle;\n",
       "    }\n",
       "\n",
       "    .dataframe tbody tr th {\n",
       "        vertical-align: top;\n",
       "    }\n",
       "\n",
       "    .dataframe thead th {\n",
       "        text-align: right;\n",
       "    }\n",
       "</style>\n",
       "<table border=\"1\" class=\"dataframe\">\n",
       "  <thead>\n",
       "    <tr style=\"text-align: right;\">\n",
       "      <th></th>\n",
       "      <th>Media_Residuos</th>\n",
       "      <th>Std_Residuos</th>\n",
       "    </tr>\n",
       "    <tr>\n",
       "      <th>Modelo</th>\n",
       "      <th></th>\n",
       "      <th></th>\n",
       "    </tr>\n",
       "  </thead>\n",
       "  <tbody>\n",
       "    <tr>\n",
       "      <th>Volatilidad 14 días</th>\n",
       "      <td>-0.011939</td>\n",
       "      <td>0.146753</td>\n",
       "    </tr>\n",
       "    <tr>\n",
       "      <th>Volatilidad 21 días</th>\n",
       "      <td>0.018149</td>\n",
       "      <td>0.108492</td>\n",
       "    </tr>\n",
       "    <tr>\n",
       "      <th>Volatilidad 28 días</th>\n",
       "      <td>-0.004625</td>\n",
       "      <td>0.076749</td>\n",
       "    </tr>\n",
       "    <tr>\n",
       "      <th>Volatilidad 7 días</th>\n",
       "      <td>0.013726</td>\n",
       "      <td>0.215244</td>\n",
       "    </tr>\n",
       "  </tbody>\n",
       "</table>\n",
       "</div>"
      ],
      "text/plain": [
       "                     Media_Residuos  Std_Residuos\n",
       "Modelo                                           \n",
       "Volatilidad 14 días       -0.011939      0.146753\n",
       "Volatilidad 21 días        0.018149      0.108492\n",
       "Volatilidad 28 días       -0.004625      0.076749\n",
       "Volatilidad 7 días         0.013726      0.215244"
      ]
     },
     "execution_count": 5,
     "metadata": {},
     "output_type": "execute_result"
    }
   ],
   "source": [
    "BASE_DIR = os.getcwd()  # Esto toma la carpeta actual de ejecución\n",
    "\n",
    "results_path = os.path.join(BASE_DIR, 'results')\n",
    "os.makedirs(results_path, exist_ok=True)\n",
    "\n",
    "resumen_residuos = []\n",
    "\n",
    "for nombre, residuos in residuos_modelos.items():\n",
    "    # Calcular media y desviación estándar de todos los residuos del fold\n",
    "    media = np.mean(residuos)\n",
    "    std = np.std(residuos)\n",
    "    \n",
    "    # Extraer volatilidad del nombre del modelo\n",
    "    vol = int(nombre.split('_vol')[1].split('d')[0])\n",
    "    \n",
    "    resumen_residuos.append({\n",
    "        'Modelo': f'Volatilidad {vol} días',\n",
    "        'Media_Residuos': media,\n",
    "        'Std_Residuos': std\n",
    "    })\n",
    "\n",
    "# Crear DataFrame final\n",
    "df_resumen_residuos = pd.DataFrame(resumen_residuos)\n",
    "df_resumen_residuos.set_index('Modelo', inplace=True)\n",
    "\n",
    "# Guardar en CSV\n",
    "df_resumen_residuos.to_csv(os.path.join(results_path, 'resumen_residuos.csv'))\n",
    "\n",
    "# Mostrar tabla\n",
    "df_resumen_residuos"
   ]
  },
  {
   "cell_type": "markdown",
   "id": "25d71503",
   "metadata": {},
   "source": [
    "Al observar los valores de la media y la desviación estándar de los residuos por modelo, se puede notar que todas las medias están muy cerca de cero, lo que indica que las predicciones, en promedio, no tienden a sobreestimar ni subestimar los valores reales de volatilidad. Por otro lado, la desviación estándar muestra que los modelos con ventanas más cortas (como 7 días) presentan mayor dispersión de residuos comparado con los modelos con ventanas más largas (como 28 días). "
   ]
  }
 ],
 "metadata": {
  "kernelspec": {
   "display_name": "wslenv",
   "language": "python",
   "name": "python3"
  },
  "language_info": {
   "codemirror_mode": {
    "name": "ipython",
    "version": 3
   },
   "file_extension": ".py",
   "mimetype": "text/x-python",
   "name": "python",
   "nbconvert_exporter": "python",
   "pygments_lexer": "ipython3",
   "version": "3.10.18"
  }
 },
 "nbformat": 4,
 "nbformat_minor": 5
}
